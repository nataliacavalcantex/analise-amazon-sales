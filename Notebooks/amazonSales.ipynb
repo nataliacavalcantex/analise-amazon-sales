{
 "cells": [
  {
   "cell_type": "code",
   "execution_count": 50,
   "metadata": {},
   "outputs": [],
   "source": [
    "import matplotlib.pyplot as plt\n",
    "import seaborn as sns\n",
    "import pandas as pd"
   ]
  },
  {
   "cell_type": "code",
   "execution_count": 51,
   "metadata": {},
   "outputs": [],
   "source": [
    "amazonSales = pd.read_csv(\"../dataset/amazon.csv\") # read the dataset"
   ]
  },
  {
   "cell_type": "code",
   "execution_count": 52,
   "metadata": {},
   "outputs": [
    {
     "name": "stdout",
     "output_type": "stream",
     "text": [
      "<class 'pandas.core.frame.DataFrame'>\n",
      "RangeIndex: 1465 entries, 0 to 1464\n",
      "Data columns (total 16 columns):\n",
      " #   Column               Non-Null Count  Dtype \n",
      "---  ------               --------------  ----- \n",
      " 0   product_id           1465 non-null   object\n",
      " 1   product_name         1465 non-null   object\n",
      " 2   category             1465 non-null   object\n",
      " 3   discounted_price     1465 non-null   object\n",
      " 4   actual_price         1465 non-null   object\n",
      " 5   discount_percentage  1465 non-null   object\n",
      " 6   rating               1465 non-null   object\n",
      " 7   rating_count         1463 non-null   object\n",
      " 8   about_product        1465 non-null   object\n",
      " 9   user_id              1465 non-null   object\n",
      " 10  user_name            1465 non-null   object\n",
      " 11  review_id            1465 non-null   object\n",
      " 12  review_title         1465 non-null   object\n",
      " 13  review_content       1465 non-null   object\n",
      " 14  img_link             1465 non-null   object\n",
      " 15  product_link         1465 non-null   object\n",
      "dtypes: object(16)\n",
      "memory usage: 183.2+ KB\n"
     ]
    }
   ],
   "source": [
    "amazonSales.info() # exploring field type"
   ]
  },
  {
   "cell_type": "code",
   "execution_count": 53,
   "metadata": {},
   "outputs": [],
   "source": [
    "amazonSales[\"discounted_price\"] = amazonSales[\"discounted_price\"].apply(lambda x: float(x.replace(\"₹\", \"\").replace(\",\", \"\").strip()))\n"
   ]
  },
  {
   "cell_type": "code",
   "execution_count": 54,
   "metadata": {},
   "outputs": [],
   "source": [
    "amazonSales[\"actual_price\"] = amazonSales[\"actual_price\"].apply(lambda x: float(x.replace(\"₹\", \"\").replace(\",\", \"\").strip()))"
   ]
  },
  {
   "cell_type": "code",
   "execution_count": 57,
   "metadata": {},
   "outputs": [
    {
     "data": {
      "text/plain": [
       "product_id              object\n",
       "product_name            object\n",
       "category                object\n",
       "discounted_price       float64\n",
       "actual_price           float64\n",
       "discount_percentage     object\n",
       "rating                  object\n",
       "rating_count            object\n",
       "about_product           object\n",
       "user_id                 object\n",
       "user_name               object\n",
       "review_id               object\n",
       "review_title            object\n",
       "review_content          object\n",
       "img_link                object\n",
       "product_link            object\n",
       "dtype: object"
      ]
     },
     "execution_count": 57,
     "metadata": {},
     "output_type": "execute_result"
    }
   ],
   "source": [
    "amazonSales.astype({'actual_price': 'float','discounted_price': 'float' }).dtypes"
   ]
  },
  {
   "cell_type": "code",
   "execution_count": null,
   "metadata": {},
   "outputs": [
    {
     "data": {
      "text/html": [
       "<div>\n",
       "<style scoped>\n",
       "    .dataframe tbody tr th:only-of-type {\n",
       "        vertical-align: middle;\n",
       "    }\n",
       "\n",
       "    .dataframe tbody tr th {\n",
       "        vertical-align: top;\n",
       "    }\n",
       "\n",
       "    .dataframe thead th {\n",
       "        text-align: right;\n",
       "    }\n",
       "</style>\n",
       "<table border=\"1\" class=\"dataframe\">\n",
       "  <thead>\n",
       "    <tr style=\"text-align: right;\">\n",
       "      <th></th>\n",
       "      <th>product_id</th>\n",
       "      <th>product_name</th>\n",
       "      <th>category</th>\n",
       "      <th>discounted_price</th>\n",
       "      <th>actual_price</th>\n",
       "      <th>discount_percentage</th>\n",
       "      <th>rating</th>\n",
       "      <th>rating_count</th>\n",
       "      <th>about_product</th>\n",
       "      <th>user_id</th>\n",
       "      <th>user_name</th>\n",
       "      <th>review_id</th>\n",
       "      <th>review_title</th>\n",
       "      <th>review_content</th>\n",
       "      <th>img_link</th>\n",
       "      <th>product_link</th>\n",
       "    </tr>\n",
       "  </thead>\n",
       "  <tbody>\n",
       "    <tr>\n",
       "      <th>count</th>\n",
       "      <td>1465</td>\n",
       "      <td>1465</td>\n",
       "      <td>1465</td>\n",
       "      <td>1465</td>\n",
       "      <td>1465</td>\n",
       "      <td>1465</td>\n",
       "      <td>1465</td>\n",
       "      <td>1463</td>\n",
       "      <td>1465</td>\n",
       "      <td>1465</td>\n",
       "      <td>1465</td>\n",
       "      <td>1465</td>\n",
       "      <td>1465</td>\n",
       "      <td>1465</td>\n",
       "      <td>1465</td>\n",
       "      <td>1465</td>\n",
       "    </tr>\n",
       "    <tr>\n",
       "      <th>unique</th>\n",
       "      <td>1351</td>\n",
       "      <td>1337</td>\n",
       "      <td>211</td>\n",
       "      <td>550</td>\n",
       "      <td>449</td>\n",
       "      <td>92</td>\n",
       "      <td>28</td>\n",
       "      <td>1143</td>\n",
       "      <td>1293</td>\n",
       "      <td>1194</td>\n",
       "      <td>1194</td>\n",
       "      <td>1194</td>\n",
       "      <td>1194</td>\n",
       "      <td>1212</td>\n",
       "      <td>1412</td>\n",
       "      <td>1465</td>\n",
       "    </tr>\n",
       "    <tr>\n",
       "      <th>top</th>\n",
       "      <td>B07JW9H4J1</td>\n",
       "      <td>Fire-Boltt Ninja Call Pro Plus 1.83\" Smart Wat...</td>\n",
       "      <td>Computers&amp;Accessories|Accessories&amp;Peripherals|...</td>\n",
       "      <td>₹199</td>\n",
       "      <td>₹999</td>\n",
       "      <td>50%</td>\n",
       "      <td>4.1</td>\n",
       "      <td>9,378</td>\n",
       "      <td>[CHARGE &amp; SYNC FUNCTION]- This cable comes wit...</td>\n",
       "      <td>AHIKJUDTVJ4T6DV6IUGFYZ5LXMPA,AE55KTFVNXYFD5FPY...</td>\n",
       "      <td>$@|\\|TO$|-|,Sethu madhav,Akash Thakur,Burger P...</td>\n",
       "      <td>R3F4T5TRYPTMIG,R3DQIEC603E7AY,R1O4Z15FD40PV5,R...</td>\n",
       "      <td>Worked on iPhone 7 and didn’t work on XR,Good ...</td>\n",
       "      <td>I am not big on camera usage, personally. I wa...</td>\n",
       "      <td>https://m.media-amazon.com/images/I/413sCRKobN...</td>\n",
       "      <td>https://www.amazon.in/Wayona-Braided-WN3LG1-Sy...</td>\n",
       "    </tr>\n",
       "    <tr>\n",
       "      <th>freq</th>\n",
       "      <td>3</td>\n",
       "      <td>5</td>\n",
       "      <td>233</td>\n",
       "      <td>53</td>\n",
       "      <td>120</td>\n",
       "      <td>56</td>\n",
       "      <td>244</td>\n",
       "      <td>9</td>\n",
       "      <td>6</td>\n",
       "      <td>10</td>\n",
       "      <td>10</td>\n",
       "      <td>10</td>\n",
       "      <td>10</td>\n",
       "      <td>8</td>\n",
       "      <td>3</td>\n",
       "      <td>1</td>\n",
       "    </tr>\n",
       "  </tbody>\n",
       "</table>\n",
       "</div>"
      ],
      "text/plain": [
       "        product_id                                       product_name  \\\n",
       "count         1465                                               1465   \n",
       "unique        1351                                               1337   \n",
       "top     B07JW9H4J1  Fire-Boltt Ninja Call Pro Plus 1.83\" Smart Wat...   \n",
       "freq             3                                                  5   \n",
       "\n",
       "                                                 category discounted_price  \\\n",
       "count                                                1465             1465   \n",
       "unique                                                211              550   \n",
       "top     Computers&Accessories|Accessories&Peripherals|...             ₹199   \n",
       "freq                                                  233               53   \n",
       "\n",
       "       actual_price discount_percentage rating rating_count  \\\n",
       "count          1465                1465   1465         1463   \n",
       "unique          449                  92     28         1143   \n",
       "top            ₹999                 50%    4.1        9,378   \n",
       "freq            120                  56    244            9   \n",
       "\n",
       "                                            about_product  \\\n",
       "count                                                1465   \n",
       "unique                                               1293   \n",
       "top     [CHARGE & SYNC FUNCTION]- This cable comes wit...   \n",
       "freq                                                    6   \n",
       "\n",
       "                                                  user_id  \\\n",
       "count                                                1465   \n",
       "unique                                               1194   \n",
       "top     AHIKJUDTVJ4T6DV6IUGFYZ5LXMPA,AE55KTFVNXYFD5FPY...   \n",
       "freq                                                   10   \n",
       "\n",
       "                                                user_name  \\\n",
       "count                                                1465   \n",
       "unique                                               1194   \n",
       "top     $@|\\|TO$|-|,Sethu madhav,Akash Thakur,Burger P...   \n",
       "freq                                                   10   \n",
       "\n",
       "                                                review_id  \\\n",
       "count                                                1465   \n",
       "unique                                               1194   \n",
       "top     R3F4T5TRYPTMIG,R3DQIEC603E7AY,R1O4Z15FD40PV5,R...   \n",
       "freq                                                   10   \n",
       "\n",
       "                                             review_title  \\\n",
       "count                                                1465   \n",
       "unique                                               1194   \n",
       "top     Worked on iPhone 7 and didn’t work on XR,Good ...   \n",
       "freq                                                   10   \n",
       "\n",
       "                                           review_content  \\\n",
       "count                                                1465   \n",
       "unique                                               1212   \n",
       "top     I am not big on camera usage, personally. I wa...   \n",
       "freq                                                    8   \n",
       "\n",
       "                                                 img_link  \\\n",
       "count                                                1465   \n",
       "unique                                               1412   \n",
       "top     https://m.media-amazon.com/images/I/413sCRKobN...   \n",
       "freq                                                    3   \n",
       "\n",
       "                                             product_link  \n",
       "count                                                1465  \n",
       "unique                                               1465  \n",
       "top     https://www.amazon.in/Wayona-Braided-WN3LG1-Sy...  \n",
       "freq                                                    1  "
      ]
     },
     "execution_count": 45,
     "metadata": {},
     "output_type": "execute_result"
    }
   ],
   "source": [
    "amazonSales.describe()"
   ]
  },
  {
   "cell_type": "code",
   "execution_count": null,
   "metadata": {},
   "outputs": [
    {
     "data": {
      "text/plain": [
       "np.int64(0)"
      ]
     },
     "execution_count": 46,
     "metadata": {},
     "output_type": "execute_result"
    }
   ],
   "source": [
    "amazonSales.duplicated().sum()"
   ]
  },
  {
   "cell_type": "code",
   "execution_count": null,
   "metadata": {},
   "outputs": [
    {
     "data": {
      "text/plain": [
       "product_id             0\n",
       "product_name           0\n",
       "category               0\n",
       "discounted_price       0\n",
       "actual_price           0\n",
       "discount_percentage    0\n",
       "rating                 0\n",
       "rating_count           2\n",
       "about_product          0\n",
       "user_id                0\n",
       "user_name              0\n",
       "review_id              0\n",
       "review_title           0\n",
       "review_content         0\n",
       "img_link               0\n",
       "product_link           0\n",
       "dtype: int64"
      ]
     },
     "execution_count": 47,
     "metadata": {},
     "output_type": "execute_result"
    }
   ],
   "source": [
    "amazonSales.isnull().sum()"
   ]
  },
  {
   "cell_type": "code",
   "execution_count": null,
   "metadata": {},
   "outputs": [],
   "source": [
    "amazonSales = amazonSales.dropna(axis=0)"
   ]
  },
  {
   "cell_type": "code",
   "execution_count": null,
   "metadata": {},
   "outputs": [
    {
     "data": {
      "text/plain": [
       "product_name\n",
       "Fire-Boltt Ninja Call Pro Plus 1.83\" Smart Watch with Bluetooth Calling, AI Voice Assistance, 100 Sports Modes IP67 Rating, 240*280 Pixel High Resolution                                            5\n",
       "Fire-Boltt Phoenix Smart Watch with Bluetooth Calling 1.3\",120+ Sports Modes, 240*240 PX High Res with SpO2, Heart Rate Monitoring & IP67 Rating                                                     4\n",
       "Wayona Nylon Braided USB to Lightning Fast Charging and Data Sync Cable Compatible for iPhone 13, 12,11, X, 8, 7, 6, 5, iPad Air, Pro, Mini (3 FT Pack of 1, Grey)                                   3\n",
       "Pinnaclz Original Combo of 2 Micro USB Fast Charging Cable, USB Charging Cable for Data Transfer Perfect for Android Smart Phones White 1.2 Meter Made in India (Pack of 2)                          3\n",
       "Ambrane Unbreakable 60W / 3A Fast Charging 1.5m Braided Type C Cable for Smartphones, Tablets, Laptops & other Type C devices, PD Technology, 480Mbps Data Sync, Quick Charge 3.0 (RCT15A, Black)    3\n",
       "                                                                                                                                                                                                    ..\n",
       "iPhone Original 20W C Type Fast PD Charger Compatible with I-Phone13/13 mini/13pro/13 pro Max I-Phone 12/12 Pro/12mini/12 Pro Max, I-Phone11/11 Pro/11 Pro Max 2020 (Only Adapter)                   1\n",
       "SanDisk Ultra microSD UHS-I Card 64GB, 120MB/s R                                                                                                                                                     1\n",
       "Noise ColorFit Ultra SE Smart Watch with 1.75\"(4.3cm) HD Display, Aluminium Alloy Body, 60 Sports Modes, Spo2, Lightweight, Stock Market Info, Calls & SMS Reply (Vintage Brown)                     1\n",
       "Nokia 150 (2020) (Cyan)                                                                                                                                                                              1\n",
       "Borosil Jumbo 1000-Watt Grill Sandwich Maker (Black)                                                                                                                                                 1\n",
       "Name: count, Length: 1335, dtype: int64"
      ]
     },
     "execution_count": 49,
     "metadata": {},
     "output_type": "execute_result"
    }
   ],
   "source": [
    "amazonSales[\"product_name\"].value_counts()"
   ]
  },
  {
   "cell_type": "code",
   "execution_count": null,
   "metadata": {},
   "outputs": [
    {
     "data": {
      "text/plain": [
       "category\n",
       "Computers&Accessories|Accessories&Peripherals|Cables&Accessories|Cables|USBCables                                          231\n",
       "Electronics|WearableTechnology|SmartWatches                                                                                 76\n",
       "Electronics|Mobiles&Accessories|Smartphones&BasicMobiles|Smartphones                                                        68\n",
       "Electronics|HomeTheater,TV&Video|Televisions|SmartTelevisions                                                               63\n",
       "Electronics|Headphones,Earbuds&Accessories|Headphones|In-Ear                                                                52\n",
       "                                                                                                                          ... \n",
       "Electronics|Cameras&Photography|Accessories|Batteries&Chargers|BatteryChargers                                               1\n",
       "Computers&Accessories|NetworkingDevices|DataCards&Dongles                                                                    1\n",
       "Electronics|HomeAudio|Speakers|MultimediaSpeakerSystems                                                                      1\n",
       "OfficeProducts|OfficePaperProducts|Paper|Copy&PrintingPaper|ColouredPaper                                                    1\n",
       "Home&Kitchen|Kitchen&HomeAppliances|Vacuum,Cleaning&Ironing|Vacuums&FloorCare|VacuumAccessories|VacuumBags|HandheldBags      1\n",
       "Name: count, Length: 211, dtype: int64"
      ]
     },
     "execution_count": 50,
     "metadata": {},
     "output_type": "execute_result"
    }
   ],
   "source": [
    "amazonSales[\"category\"].value_counts()"
   ]
  },
  {
   "cell_type": "code",
   "execution_count": null,
   "metadata": {},
   "outputs": [
    {
     "data": {
      "text/plain": [
       "about_product\n",
       "[CHARGE & SYNC FUNCTION]- This cable comes with charging & Data sync function|[HIGH QUALITY MATERIAL]- TPE + Nylon Material to make sure that the life of the cable is enhanced significantly|[LONG CORD]- The Cable is extra thick 1.2 meter long, optimized for an easy use for your comfort at home or office|[MORE DURABLE]-This cable is unique interms of design and multi-use and is positioned to provide the best comfort and performance while using|[UNIVERSAL COMPATIBILITY]- Compatible with all devices like iPhone XS, X, XR, 8, 7, 6S, 6, 5S, iPad Pro, iPad mini and iPad Air                                                                                                                                                                                                                                                                                                                                                                                                                                                                                                                                                                                                                                                                                                                                                                                                                                                                                                                            6\n",
       "Bluetooth Calling- Wave Call comes with a premium built-in speaker and bluetooth calling via which you can stay connected to your friends, family, and colleagues|Dial Pad- Its dial pad is super responsive and convenient. You can also save upto 10 contacts in this smart watch|Screen Size- Wave Call comes with a 1.69” HD Display that features a bold, bright, and highly responsive 2.5D curved touch interface|Resolution- With 550 nits of brightness get sharper color resolution that brightens your virtual world exponentially.|Design- The ultra slim and lightweight design of the watch is ideal to keep you surfing your wave all day!|Watch Faces- Wave Call comes with 150+ Cloud watchfaces for you to pick from, complementing your every mood and outfit|HR, SpO2 & Breathing- Monitor your heart rate and blood oxygen levels on-the-go with the heart rate and SpO2 monitor. It also comes with Guided Breathing to help you relax and embrace mindfulness.                                                                                                                                                                                                                                                                                                                                                                                                                                                                                                                                     5\n",
       "Added Protection: An additional layer of protection has been added to the Lightning and USB ends to improve durability and reduce fraying;                                                                                                                                                                                                                                                                                                                                                                                                                                                                                                                                                                                                                                                                                                                                                                                                                                                                                                                                                                                                                                                                                                                                                                                                                                                                                                                                                                                5\n",
       "Upto 12GB RAM with RAM Plus | 128GB internal memory expandable up to 1TB||Superfast 5G with 11 5G Bands, Powerful MTK D700 Octa Core 2.2GH with Android 12,One UI Core 4|50MP+2MP Dual camera setup- True 50MP (F1.8) main camera + 2MP (F2.4) | 5MP (F2.0) front came|16.55 centimeters (6.5-inch) LCD, HD+ resolution with 720 x 1600 pixels resolution, 269 PPI with 16M color|5000mAH lithium-ion battery, 1 year manufacturer warranty for device and 6 months manufacturer warranty for in-box accessories including batteries from the date of purchase                                                                                                                                                                                                                                                                                                                                                                                                                                                                                                                                                                                                                                                                                                                                                                                                                                                                                                                                                            4\n",
       "The boAt Deuce USB 300 2 in 1 cable is compatible with smartphones, tablets, PC peripherals, Bluetooth speakers, power banks and all other devices with Type-C as well as Micro USB port|It ensures 3A fast charging and data transmissions with rapid sync at 480 mbps|The premium Nylon braided skin makes it sturdy and invincible against external damage|Its Aluminium alloy shell housing makes it last longer with 10000+ Bends Lifespan with extended frame protection for strain relief|The resilient and flexible design offers a tangle free experience seamlessly|Deuce USB 300 cable offers a perfect 1.5 meters in length for smooth & hassle-free user experience|2 years warranty from the date of purchase                                                                                                                                                                                                                                                                                                                                                                                                                                                                                                                                                                                                                                                                                                                                                                                               4\n",
       "                                                                                                                                                                                                                                                                                                                                                                                                                                                                                                                                                                                                                                                                                                                                                                                                                                                                                                                                                                                                                                                                                                                                                                                                                                                                                                                                                                                                                                                                                                                         ..\n",
       "Playback- Leave all charging worries at bay as the Rockerz 255 Pro+ comes with a humongous battery back up of upto 40 hours(@50% volume|ASAP Charge- With a few minutes of ASAP Charge you can get upto 10 hours of audio time by charging them for only 10 mins. Charging Tme : 1.5 H|Drivers- The unbeatable boAt signature sound shines through no matter what are you playing courtesy its 10mm drivers.|IP Rating- Rockerz 255 Pro+ are perfect for the outdoors and daily workout as they are IPX7 rated.|Controls- Its multi-function Integrated controls lends an intuitive listening experience with volume increase and Decrease and Stop and Play buttons|Dual Pairing- This neckband features dual pairing so that you can connect 2 devices at once. Live a wireless life with advanced BT 5.0 technology.|Magnetic Earbuds- Live tangle- free life with its magnetic earbuds. Note: They do not support play/pause function                                                                                                                                                                                                                                                                                                                                                                                                                                                                                                                                                                                 1\n",
       "> ★ ★------->EASY TO FOLD OUT: Clever folding design allows the legs to fold flat so you can easily put it behind the door or the corner of home when not in use. No need to install everytime you use.|>★★------->LARGE, STABLE, PORTABLE FOLDING TABLE: The folding size of our laptop desk is about 60cm(L) * 39.5cm(W) * 27cm(H) such that it fits upto 11-17inch laptops and also a space for mouse. Built-in iPad stand groove for holding ipad or kindle. Our table comes with a table cup holder to keep your favorite drink within reach.|>★ ★------->MULTI-PURPOSE LAPTOP DESK: Laptop bed tray is perfect lap desks for work, games, reading, eating and school from the comfort of your bed, floor, sofa or couch. Great work from home gift & bed accessories!|> ★ ★------->NON-SLIP BOTTOM DESIGN: The steel feet are covered with black sponge for good anti-slip effect to keep your laptop safe without slipping when in tilted position. Also provides you a comfort and stability while using.|>★ ★------->ENVIRONMENTAL FRIENDLY MATERIALS: Laptop Bed Table is made of MDF solid wood particle board, safe and environmentally friendly. The surface is smooth, non-toxic, not easy to stretch, moisture-proof, scratch-resistant, high-temperature resistant. While the legs are made of aluminum alloy tube with powder coated finishing work, it is more strong, sturdy and curved ergonomic tabletop designed for sitting. This table will last for a lifetime and will remain corrosion-free    1\n",
       "Playback- Airdopes 121v2 offers a nonstop playback of up to 3.5H with each charge and an additional 10.5H playtime with the included charging case|Lightweight- With a dual tone finish on a lightweight ergonomic design weighing just around 4g per earbud, get ready to groove in full flow with Airdopes 121v2v2 TWS earbuds|Drivers- It possesses powerful 8mm drivers that pump out immersive auditory experience all day long|Battery Indicator- Its carry cum charge case also has the battery LED indicator that shows the remaining power for the case|Controls- The true wireless earbuds offer easy access multifunction button controls with stereo calling feature for an overall seamless user experience.|Bluetooth- These true wireless earbuds offer a true wireless experience for real time audio with Bluetooth v5.0.|Voice Assistant- You can access the instant voice assistant via just a single press of the Multifunction Button|1 year warranty from the date of purchase                                                                                                                                                                                                                                                                                                                                                                                                                                                                                                                      1\n",
       "Toys and Games Portable Ruff Pad E-Writer, 8.5 inch LCD Display|One-touch Erase Button : Tablet displays your notes until you erase them with the touch of a button.One-touch button erases notes instantly.|Pressure-sensitive screen lets you create thick and thin lines. Durable case and recessed screen are safe for school, travel and home use.|Tablet displays your notes until you erase them with the touch of a button, One-touch button erases notes instantly.|Best Birthday Gift For Kids. Color may vary as per Availability                                                                                                                                                                                                                                                                                                                                                                                                                                                                                                                                                                                                                                                                                                                                                                                                                                                                                                                                                                              1\n",
       "Brand-Borosil, Specification â€“ 23V ~ 5Hz;1 W Power for Faster Grilling|Makes 2 Sandwiches in minutes;Stainless Steel Mirror Finish Body; Easy to use;Easy to clean coated plates|Auto-lock latch;Larger deep ribbed grill plates for Krisp grilling|Rubber feet to avoid slipping on Countertop;Indicator Display.|Material Type: Plastic|Suitable for gifting on Diwali and other special occasions.                                                                                                                                                                                                                                                                                                                                                                                                                                                                                                                                                                                                                                                                                                                                                                                                                                                                                                                                                                                                                                                                                                                   1\n",
       "Name: count, Length: 1291, dtype: int64"
      ]
     },
     "execution_count": 51,
     "metadata": {},
     "output_type": "execute_result"
    }
   ],
   "source": [
    "amazonSales[\"about_product\"].value_counts()"
   ]
  },
  {
   "cell_type": "code",
   "execution_count": null,
   "metadata": {},
   "outputs": [
    {
     "data": {
      "text/plain": [
       "user_name\n",
       "$@|\\|TO$|-|,Sethu madhav,Akash Thakur,Burger Planet,Justice ⚖️,indrajyoti d.,Aditya Kumar,E.C.GEORGE               10\n",
       "Manav,Adarsh gupta,Sundeep,S.Sayeed Ahmed,jaspreet singh,Khaja moin,Anand,S.ARUMUGAM                                8\n",
       "Satheesh Kadiam,Pritom Chakraborty,Vishwa,Simranpreet Singh,Saptarshi,Amazon Customer,D.RAGHUL,Dharmendra kumar     8\n",
       "Omkar dhale,JD,HEMALATHA,Ajwadh a.,amar singh chouhan,Ravi Siddan,Himanshu Goel,Udaykumar                           7\n",
       "ArdKn,Nirbhay kumar,Sagar Viswanathan,Asp,Placeholder,BharanI,sonia,Niam                                            7\n",
       "                                                                                                                   ..\n",
       "lucky,SALMAN S,Rahul Singh,INSOLARE ENERGY PVT Ld,Sandeep Kumar Sahu,Amazon Customer,Sudhanshu,Jp                   1\n",
       "Amazonnig,Anurag,p_v_,Anil Kumar,Ignatius Nayan D'Rozario,Amazon Customer,Maulik Aryan,basraj                       1\n",
       "Siddharth suman,Soumayan Chakraborty,Papori,Agasthya,Jiten Sinku,Aleena,Ram Surat,Uday Kumar                        1\n",
       "Neeraj Vishwakarma,UD,M.Sathish kumar,Karthik,Kunjasha.v.kadu,Govind N.,Yogesh Tayde,Amima khatun                   1\n",
       "Rajib,Ajay B,Vikas Kahol,PARDEEP,Anindya Pramanik,Vikas Singh,Harshada Pimple,Saw a.                                1\n",
       "Name: count, Length: 1192, dtype: int64"
      ]
     },
     "execution_count": 52,
     "metadata": {},
     "output_type": "execute_result"
    }
   ],
   "source": [
    "amazonSales[\"user_name\"].value_counts()"
   ]
  },
  {
   "cell_type": "code",
   "execution_count": null,
   "metadata": {},
   "outputs": [
    {
     "data": {
      "text/plain": [
       "review_title\n",
       "Worked on iPhone 7 and didn’t work on XR,Good one,Dull Physical Looks,Just Buy it,Go for it,About the product,Get charging cable at the price,Working well.                                                                                                                                                                                               10\n",
       "Satisfied,Charging is really fast,Value for money,Product review,Good quality,Good product,Good Product,As of now seems good                                                                                                                                                                                                                               8\n",
       "Phone, camera, heating - works for me, may not for all,Good Mobile,Good but not excellent under this budget,Worth the price at 9499,Ok type phone... but unable to make videocall within same service provider.,Phone review,Budget king,Battery backup is good                                                                                            8\n",
       "Good product,Good one,Nice,Really nice product,Very first time change,Good,Fine product but could be better,Very nice it's charging like jet                                                                                                                                                                                                               7\n",
       "A Good Braided Cable for Your Type C Device,Good quality product from ambrane,Super cable,As,Good quality,Good product,its good,Good quality for the price but one issue with my unit                                                                                                                                                                      7\n",
       "                                                                                                                                                                                                                                                                                                                                                          ..\n",
       "light weight okay in this price range,Value for money,Good,EASY TO USE,Value for money,this is no soft touch keyboard,Good product in this price range,Budget friendly                                                                                                                                                                                     1\n",
       "Good headphones, the sound is good, not sure about comfort,Just Ok,Budget Entry Level Banger Headset,Good quality product,Good multipoint connectivity. Falls off the ear,Good quality, but battery draining,ANC very bad,Bluetooth not working after 4 month                                                                                              1\n",
       "Very fine product..,Good,Worth the money,Does what it says,Value for money product but brush is not good.,Easy to use,Good product,Worthable                                                                                                                                                                                                               1\n",
       "It takes Forever - to transfer anything. Maybe I - misunderstood \"Ultra\" or somebody missed \"Ultra-Slow\" in the model tag line.,Comprehensive Review of Product, Company & Seller,Desigh and usage,Good purchase not best,Sd card,Good Quality product,Pendrive Quality to Aacchi H Par , Storage 64 Gb Ki jagah 61 Gb Hi Milta H 3Gb Kam Milta H,Good     1\n",
       "Works perfect,Ok good product,Nice Product. Recommend it. But cleaning its exterior is cumbersome.,Excellent product✌,A good product for household use,मुझे बिल्कुल भी मजा नहीं आया और वापस कर दिया।,Best product,Good                                                                                                                                     1\n",
       "Name: count, Length: 1192, dtype: int64"
      ]
     },
     "execution_count": 53,
     "metadata": {},
     "output_type": "execute_result"
    }
   ],
   "source": [
    "\n",
    "amazonSales[\"review_title\"].value_counts()"
   ]
  },
  {
   "cell_type": "code",
   "execution_count": null,
   "metadata": {},
   "outputs": [
    {
     "data": {
      "text/plain": [
       "review_content\n",
       "I am not big on camera usage, personally. I was even mentally prepared for a bad camera, based on some reviews here. But I was pleasantly surprised that camera clicks good photos. They are not awesome, but they are decent photos that can even be shared.Now coming to my biggest grouse; heating issue. The phone started heating up while charging, but it was just a little and so I could have ignored it. But then it started heating up more and got me very concerned. I even ordered a replacement thinking I got a defective piece. But then, after further tests, I found that it is heating more when I download huge amounts of data, for example, when I restore data of my old phone, from back up. This is ok with me as, I don't perform huge data loads regularly, definitely not on phone. Then I tested by running tasks I usually perform such as checking office mails, attending office meeting on phone, watching a video from Amazon Prime, and so on. The phone did not heat up even a little. Personally, this is good for me.At this price range, this is a good phone. But if you are camera heavy user and expect to perform heavy downloads frequently, this phone may not for you. I am personally satisfied with this phone as it works for my type of usage. I will not go into plus points of this phone as they are covered by other reviews already. I am only attempting to clarify about how this phone can suit you (or not) in terms of camera and heating. I had many questions about these aspects before buying. Perhaps this review will help you make an informed decision to buy (or avoid). Cheers.,Display - BeautyCamera - decentPerformance - AmazingBattery - ok (in 5000mah u expect more tbh)Overall good phone...Also after 1day of use, i found some network connectivity issue in my jiosim, which I'm using right now in this phone, but I'll keep update this review after 1month of usage!,It's a decent mobile under this price but few things worried me , weight of the phone, too many procedure to change some settings, no screen casting. Apart from that it has good touch, a decent camera for day light , battery life is good.,I bought this smartphone for my mom. Samusung interface is very handful for easy use. Battery is superb, last whole day. Camera is mediocre but provide original colour pictures. All in all satisfied with this smartphone that i got in sale for 9499.,Unable to do video call within same service provider as in VOLTE within same service provider video call feature is available.,Product is fine.  Nothing Fancy but for the budget it is a good phone.,BATTERY : more than enough for normal use  Not sure in gamingCAMERA : good in this segment , can record  videos in FHD 30fpsDISPLAY : since it's a LCD display the quality is  a bit less , but goodV RAM : you can add upto 2gb of virtual ram  but have to sacrifice your storage  Space to use it  OVERALL A GOOD BUDGET PHONE,Finger print is working speedy battery backup is good camera quality is also good    8\n",
       "I ordered this cable to connect my phone to Android Auto of car. The cable is really strong and the connection ports are really well made. I already has a Micro USB cable from Ambrane and it's still in good shape. I connected my phone to the car using the cable and it got connected well and no issues. I also connected it to the charging port and yes it has Fast Charging support.,It quality is good at this price and the main thing is that i didn't ever thought that this cable will be so long it's good one and charging power is too good and also supports fast charging,Value for money, with extra length👍,Good, working fine,Product quality is good,Good,very good,Bought for my daughter's old phone.Brand new cable it was not charging, I already repacked and requested for replacement.I checked again, and there was some green colour paste/fungus inside the micro USB connector. I cleaned with an alcoholic and starts working again.Checked the ampere of charging speed got around 1400ma-1500ma - not bad, came with braided 1.5m long cable, pretty impressive for the price.Can't blame the manufacturer.But quality issues by the distributor, they might have stored in very humid place.                                                                                                                                                                                                                                                                                                                                                                                                                                                                                                                                                                                                                                                                                                                                                                                                                                                                                                                                                                                                                                                                                                                                                                                                                                                                                                                                                                                                                                                                                                                                                                                                                                                                                                                                                                                                                                                             7\n",
       "Good product,long wire,Charges good,Nice,I bought this cable for Rs.339 worthy product for this price, i tested it in various charger adapters 33w and 18w it supports fast charging as well.,Good,Ok,I had got this at good price on sale on Amazon and product is useful with warranty but for warranty you need to go very far not practical for such a cost and mine micro to type c connector stopped working after few days only.,I like this product                                                                                                                                                                                                                                                                                                                                                                                                                                                                                                                                                                                                                                                                                                                                                                                                                                                                                                                                                                                                                                                                                                                                                                                                                                                                                                                                                                                                                                                                                                                                                                                                                                                                                                                                                                                                                                                                                                                                                                                                                                                                                                                                                                                                                                                                                                                                                                                                                                                                                                                                                                                                                                    7\n",
       "Worked on iPhone 7 and didn’t work on iPhone XR,https://m.media-amazon.com/images/I/71qFFAlV9ZL._SY88.jpg,Look-wise, I didn’t like it. Still, I use it for my work.,Product is quite good and is fast charging.Loved it.,I like it . Looks last long.,The sturdiness will depend on the manner of its use. But its speed of charging is great. Very good product for the average income group.,It's great for charging devices with various types of ports. But works best when charging one device at a time.,Good item.                                                                                                                                                                                                                                                                                                                                                                                                                                                                                                                                                                                                                                                                                                                                                                                                                                                                                                                                                                                                                                                                                                                                                                                                                                                                                                                                                                                                                                                                                                                                                                                                                                                                                                                                                                                                                                                                                                                                                                                                                                                                                                                                                                                                                                                                                                                                                                                                                                                                                                                                                                      7\n",
       "128GB SD Card is showing 134GBDon't buy this product,It was a bit costly but prouduct is of great quality. Could have been made little bit cheaper cost wise.,All good,Fast and smooth,Ab mujhe computer ki jarurat nahi padti,Speed is fast but not as advertise I get around read speed 70MB/s and write speed 30MB/s,Good one,Product is ok.                                                                                                                                                                                                                                                                                                                                                                                                                                                                                                                                                                                                                                                                                                                                                                                                                                                                                                                                                                                                                                                                                                                                                                                                                                                                                                                                                                                                                                                                                                                                                                                                                                                                                                                                                                                                                                                                                                                                                                                                                                                                                                                                                                                                                                                                                                                                                                                                                                                                                                                                                                                                                                                                                                                                                6\n",
       "                                                                                                                                                                                                                                                                                                                                                                                                                                                                                                                                                                                                                                                                                                                                                                                                                                                                                                                                                                                                                                                                                                                                                                                                                                                                                                                                                                                                                                                                                                                                                                                                                                                                                                                                                                                                                                                                                                                                                                                                                                                                                                                                                                                                                                                                                                                                                                                                                                                                                                                                                                                                                                                                                                                                                                                                                                                                                                                                                                                                                                                                                              ..\n",
       "Compact product to use during travels or even at home. I don't need to search for different items. I can just grab it and use it for multiple purposes. Go for it!,Good for taking notes and reminders in a single pack.,This is especially for those who are used to be more comfortable to be organised.,Nice product,You can carry it with you anywhere.... There is no need to worry about space. You can makea list make a note and absolutely you can re-use it.,Product is good indeed I wanted to buy it for long but it is costly,,Today i received my package and yeah it is really cute.Not fully satisfied with the cover but overall its good. Worth it. It is all in good condition and it also comes with a pen too.  Really recommend you to buy ut.                                                                                                                                                                                                                                                                                                                                                                                                                                                                                                                                                                                                                                                                                                                                                                                                                                                                                                                                                                                                                                                                                                                                                                                                                                                                                                                                                                                                                                                                                                                                                                                                                                                                                                                                                                                                                                                                                                                                                                                                                                                                                                                                                                                                                                                                                                                           1\n",
       "https://m.media-amazon.com/images/I/6171Cw2IlPL._SY88.jpg,100% genuine and perfect product.,Good,Worth the money as its a fun experience to use instant cam!Product is original with good packaging!,The top most amazing feature is it makes pictures look like the old 80’s.. but one problem is few don’t develop at all.,Nice, as per expectations,This is bad after 1 month,Okay productWorth the purchase.                                                                                                                                                                                                                                                                                                                                                                                                                                                                                                                                                                                                                                                                                                                                                                                                                                                                                                                                                                                                                                                                                                                                                                                                                                                                                                                                                                                                                                                                                                                                                                                                                                                                                                                                                                                                                                                                                                                                                                                                                                                                                                                                                                                                                                                                                                                                                                                                                                                                                                                                                                                                                                                                               1\n",
       "When I purchased this watch, I thought it couple be used to send sms, make calls, access notifications without being connected to the phone. I knew that third party notifications required the phone to be connected to the internet, but I thought the watch could place calls and send texts even if the phone is switched off. The product I ordered can only make calls when disconnected from the phone. Features such as SMS (surprising since this is an LTE version) and notifications (this includes watch apps such as outlook) that require internet are only synced with the watch on e it is connected to the phone VIA BLUETOOTHI did not check other features as the main reason I ordered this watch was accessibility to notifications without phone.,I have been using this since June'22. It looks good on the wrist,and has all useful features like calling,reading and replying whatsapp messages.The battery is too low though, I keep it switched off at night(I.e. never used it to track sleep), yet have to charge every couple of days. Plus it gets charged slow.,All features of the watch is good but battery backup is very poor. After full charge it runs 36-40 hours but after average uses it will run 20-22 hours only.,It's amazing with the lte function now I don't lug my phone to the gym!! But the battery life sucks and have to charge twice specially when I use lte ,also it heats for some reason and needs to cool down once in a while that time the watch automatically goes into hibernation and starts after some timePositives areAccuracySleep trackingO2 monitorRemote lte connectionWears amazing on the wristGreat screenNegativeBattery life,Using it for 1 month. Fits well, have wireless charger. You can also charge it from your phone if your phone supports wireless charging. One thing which is common to most smart watches is when you're traveling in bus or car in a bumby road, it will assume you are jogging and congratulate you for completing daily tasks 😄,Charging is too slow, which is to be expected.Unless you have a samsung flagship phone, you won't be able to see camera app on the watch, and you'll have to get third party applications, and they're just horrible.,Product is goodPros1 health accuracy is high2 ui is good3 Design and build quality is also goodCon1 app is not that good and facing connectivity issues,Good                                                                                                                                                                                                                                                                                                                                                                                                                                                                                                                                                                                                                                                                  1\n",
       "HONEST REVIEW :-I got these buds in ₹895/- and I only buy earbuds because of the music, movies, series...MUSIC EXPERIENCE- 4.5/5 (Tbh I like to hear balanced music like crystal clear sound with a balanced bass but yeah if you are bass lover then just think again before buying it)BATTERY - 5/5HYPERSYNC - 5/5BLUETOOTH - 3.5/5 (I checked the box and there it's written Bluetooth 5.3 but its range is low and that's not up to my expectations... But It will work for me...) So yeah if you are just buying it for Bluetooth 5.3... just think again...INSTACHARGE- 5/5 It actually works very well...BUDS- 4.5/5 ( In ear design is good and they fits perfectly also you can do workout, exercise, running etc... but if your own ears are somewhat different like so big then it's your problem Although it comes with different buds sizes so u can try them...;)Buds are really so light so yeah I personally like them...CALLING EXPERIENCE (VOICE/VIDEO CALL) 3.5/5These buds don't come with ANC Mode so please don't buy them just for ANC...And incall range is too low... :(  which I really don't expected... (But It will work for me),The sound quality is good, no doubt. But on a personal note, such buds dont suit my ear. Others who used it liked it though,very bad quality of product. Stop working after 2 months.please dont waste your money on this earbud.,Good sound/ good bass/all features is nice/Good in room or silent place...some background noise come in open area like road... during travel...but this prob in all companies,Like at this price , but noise cancellation is not so good.,Good product for this amount, rarely facing issue while redmi 10,For my listing music and it has great quality,The sound quality is very clear and the range is very good but the bass is not that great                                                                                                                                                                                                                                                                                                                                                                                                                                                                                                                                                                                                                                                                                                                                                                                                                                                                                                                                                                                                                                                                                                                                                                                                                                             1\n",
       "It does it job perfectly..only issue is temp control is not perfect . U need to keep checking the browness of sandwich untill it gets upto ur choise,Product is good, but the control knob is to be be modified cause after the cooking process completes the control knob should be return back to initial starting place. If not that process timer should be given basically. So think well what happens whether didn't had atleast one option.Not a indicator option.,It is a nice product, easy to use. The grilling function is also wonderful. But the exterior metallic finish picks up finger marks and other spots which tend to become permanent. Cleaning them is almost impossible.,Very good product,This is a pretty powerful sandwich maker, for home use. The product looks good, has a sturdy build, and heats up quick. The sandwiches are made pretty quickly, without burning.,बोरोसिल ब्रांड का यह \"सेंडविच मेकर\" देखने में तो अच्छा लगता है मगर इसकी बिल्ड क्वालिटी अच्छी नहीं है।  यह लगभग Rs 3000 के आसपास आता है।  इस प्रकार की बिल्ड क्वालिटी ₹2000 के करीब मिल जाती है तो कोई क्यों ₹1000 अधिक भुगतान करें।  पहले मैंने इसे review देखने के बाद ऑर्डर किया था लेकिन जब घर पर डिलीवरी होने के पश्चात  unboxing करके देखा तो इसकी बिल्ड क्वालिटी कुछ खास नहीं लगी इसलिए अपने पैसे बचाने के लिए मैंने इसे वापस भेज दिया। मैंने इसकी पैकेजिंग, मैनुअल और सैंडविच मेकर की फोटोग्राफ आप सभी से शेयर की है।  आप स्वयं देख के अनुमान लगा सकते हैं।,Recommend work as expected,Its easy tp use                                                                                                                                                                                                                                                                                                                                                                                                                                                                                                                                                                                                                                                                                                                                                                                                                                                                                                                                                                                                                                                                                                                                                                                                                                                                                                                                                                                                                                                                                                                                                                              1\n",
       "Name: count, Length: 1210, dtype: int64"
      ]
     },
     "execution_count": 54,
     "metadata": {},
     "output_type": "execute_result"
    }
   ],
   "source": [
    "amazonSales[\"review_content\"].value_counts()"
   ]
  },
  {
   "cell_type": "code",
   "execution_count": null,
   "metadata": {},
   "outputs": [],
   "source": [
    "columnsToUpdate = [\"actual_price\",\"discounted_price\"]\n",
    "for column in columnsToUpdate:\n",
    "    amazonSales[column] = (\n",
    "        amazonSales[column]\n",
    "        .str.split(\"₹\", n=1).str.get(1)          # Dividir na moeda ₹ e pegar a parte numérica\n",
    "        .str.replace(\",\", \".\", regex=False)     # Substituir vírgulas por pontos\n",
    "        .str.replace(r\"\\.\", \"\", regex=True)     # Remover todos os pontos\n",
    "        .str.strip()                            # Remover espaços em branco extras\n",
    "    )"
   ]
  },
  {
   "cell_type": "code",
   "execution_count": 104,
   "metadata": {},
   "outputs": [],
   "source": [
    "amazonSales[\"rating\"] = pd.to_numeric(amazonSales[\"rating\"], errors='coerce')  #"
   ]
  },
  {
   "cell_type": "code",
   "execution_count": 106,
   "metadata": {},
   "outputs": [
    {
     "data": {
      "text/plain": [
       "<Axes: >"
      ]
     },
     "execution_count": 106,
     "metadata": {},
     "output_type": "execute_result"
    },
    {
     "data": {
      "image/png": "[encoded data removed]",
      "text/plain": [
       "<Figure size 640x480 with 2 Axes>"
      ]
     },
     "metadata": {},
     "output_type": "display_data"
    }
   ],
   "source": [
    "correlation = amazonSales[[\"actual_price\",\"discounted_price\", \"rating\"]].corr()\n",
    "sns.heatmap(correlation, annot=True,fmt=\".1f\", linewidths=.6, center=0)"
   ]
  }
 ],
 "metadata": {
  "kernelspec": {
   "display_name": "Python 3",
   "language": "python",
   "name": "python3"
  },
  "language_info": {
   "codemirror_mode": {
    "name": "ipython",
    "version": 3
   },
   "file_extension": ".py",
   "mimetype": "text/x-python",
   "name": "python",
   "nbconvert_exporter": "python",
   "pygments_lexer": "ipython3",
   "version": "3.9.6"
  }
 },
 "nbformat": 4,
 "nbformat_minor": 2
}
